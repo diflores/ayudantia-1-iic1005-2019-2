{
  "nbformat": 4,
  "nbformat_minor": 0,
  "metadata": {
    "kernelspec": {
      "display_name": "Python 3",
      "language": "python",
      "name": "python3"
    },
    "language_info": {
      "codemirror_mode": {
        "name": "ipython",
        "version": 3
      },
      "file_extension": ".py",
      "mimetype": "text/x-python",
      "name": "python",
      "nbconvert_exporter": "python",
      "pygments_lexer": "ipython3",
      "version": "3.6.3"
    },
    "colab": {
      "name": "Ayudantia_2.ipynb",
      "version": "0.3.2",
      "provenance": [],
      "collapsed_sections": [],
      "include_colab_link": true
    }
  },
  "cells": [
    {
      "cell_type": "markdown",
      "metadata": {
        "id": "view-in-github",
        "colab_type": "text"
      },
      "source": [
        "<a href=\"https://colab.research.google.com/github/diflores/ayudantia-2-iic1005-2019-2/blob/master/Ayudantia_2.ipynb\" target=\"_parent\"><img src=\"https://colab.research.google.com/assets/colab-badge.svg\" alt=\"Open In Colab\"/></a>"
      ]
    },
    {
      "cell_type": "markdown",
      "metadata": {
        "deletable": true,
        "editable": true,
        "id": "l905IZ4Qgfgq",
        "colab_type": "text"
      },
      "source": [
        "# IIC1005: Ayudantía 2\n",
        "\n",
        "#### 21 de agosto de 2019.\n",
        "\n",
        "###### Esta ayudantía está inspirada en la Ayudantía 2 de la versión 2017-2 de este curso. Puedes encontrar la original [aquí](https://github.com/diflores/iic1005-ayudantia-2)."
      ]
    },
    {
      "cell_type": "markdown",
      "metadata": {
        "deletable": true,
        "editable": true,
        "id": "LOB49z9mgfgs",
        "colab_type": "text"
      },
      "source": [
        "## *Jupyter notebooks*\n",
        "\n",
        "**¿Qué es un *notebook*?**\n",
        "\n",
        "Un *notebook* es un documento generado por la *Jupyter Notebook App*. Estos documentos contienen código ejecutable y también elementos más amigables para el ser humano común, tales como párrafos, ecuaciones e hipervínculos. Estas características convierten a los *notebooks* en herramientas ideales para aprender Python, procesar datos y aventurarse *machine learning*.\n",
        "\n",
        "Los *notebooks* se componen de una serie de celdas, que pueden ser de distintos tipos. Por lo general, utilizaremos solo dos:\n",
        "\n",
        "- Code (para escribir código ejecutable).\n",
        "- [*Markdown*](https://guides.github.com/features/mastering-markdown/) (para escribir párrafos en dicho lenguage de marcación).\n",
        "\n",
        "La celda actual es una celda de tipo *markdown*. La siguiente, corresponde a una de tipo *code*. Puedes ejecutar su código presionando el ícono ▶️:"
      ]
    },
    {
      "cell_type": "code",
      "metadata": {
        "deletable": true,
        "editable": true,
        "id": "iwLDiJPUgfgt",
        "colab_type": "code",
        "colab": {}
      },
      "source": [
        "print(\"¡Hola mundo!\")"
      ],
      "execution_count": 0,
      "outputs": []
    },
    {
      "cell_type": "markdown",
      "metadata": {
        "deletable": true,
        "editable": true,
        "id": "JvmoDhOGgfg0",
        "colab_type": "text"
      },
      "source": [
        "También puedes ejecutar el código de una celda presionando shift + enter, lo que ejecutará el código y avanzará a la celda siguiente. Si deseas ejecutar el código, pero mantenerte en la celda correspondiente, utiliza ctrl + enter. Si quieres aprender más atajos de teclado, presiona esc + h"
      ]
    },
    {
      "cell_type": "markdown",
      "metadata": {
        "deletable": true,
        "editable": true,
        "id": "CBBxfqtfgfg1",
        "colab_type": "text"
      },
      "source": [
        "## Pandas\n",
        "\n",
        "**¿Qué es pandas?**\n",
        "\n",
        "Pandas es una librería de Python que nos permitirá manipular datos de manera sencilla.\n",
        "\n",
        "**¿Por qué no utilizamos las estructuras de datos de Python para esto?**\n",
        "\n",
        "Porque aun cuando sirvan para solucionar el problema, su uso en esta misión no es eficiente. \n",
        "\n",
        "### Conceptos básicos de pandas: *Series* y *DataFrames*\n",
        "\n",
        "Pandas cuenta con dos estructuras de datos principales, las *Series* y los *DataFrames*. Una Series puede ser comprendida como una columna de datos. Un *DataFrame*, por su parte, puede ser visto como un conjunto de *Series*.\n",
        "\n",
        "A continuación, revisaremos un ejemplo sencillo, que nos permitirá introducirnos al uso de pandas. Lo primero que debemos hacer es importar la librería:"
      ]
    },
    {
      "cell_type": "code",
      "metadata": {
        "deletable": true,
        "editable": true,
        "id": "gQowfEPBgfg2",
        "colab_type": "code",
        "colab": {}
      },
      "source": [
        "import pandas as pd"
      ],
      "execution_count": 0,
      "outputs": []
    },
    {
      "cell_type": "markdown",
      "metadata": {
        "deletable": true,
        "editable": true,
        "id": "AcQ47MSrgfg4",
        "colab_type": "text"
      },
      "source": [
        "En este ejemplo, utilizaremos un *dataset* de transacciones de enero de 2009, el que fue obtenido desde [aquí](https://support.spatialkey.com/spatialkey-sample-csv-data/). Lo primero que debemos hacer es cargar los datos. Para ello, la librería pandas provee un método muy útil llamado `read_csv`."
      ]
    },
    {
      "cell_type": "code",
      "metadata": {
        "id": "vwKYgQY8hBQX",
        "colab_type": "code",
        "colab": {}
      },
      "source": [
        "!wget -O SalesJan2009.csv https://gist.githubusercontent.com/diflores/e11af543eb64090d2446f231f2e84f0f/raw/94cdd2b4de0716ba70ef89b69674d53737ce8a9c/SalesJan2009.csv"
      ],
      "execution_count": 0,
      "outputs": []
    },
    {
      "cell_type": "code",
      "metadata": {
        "deletable": true,
        "editable": true,
        "id": "VU9h9tjIgfg5",
        "colab_type": "code",
        "colab": {}
      },
      "source": [
        "dataset = pd.read_csv(\"SalesJan2009.csv\")"
      ],
      "execution_count": 0,
      "outputs": []
    },
    {
      "cell_type": "markdown",
      "metadata": {
        "deletable": true,
        "editable": true,
        "id": "a25RB_4Pgfg7",
        "colab_type": "text"
      },
      "source": [
        "### Explorando los datos mediante preguntas *interesantes*\n",
        "Antes de manipular los datos, es conveniente explorarlos. Inicialmente, podríamos preguntarnos: ¿qué columnas contiene el *dataset* recién cargado? Podemos obtener esta información ejecutando la siguiente celda:"
      ]
    },
    {
      "cell_type": "code",
      "metadata": {
        "deletable": true,
        "editable": true,
        "id": "XV9Wslxhgfg7",
        "colab_type": "code",
        "colab": {}
      },
      "source": [
        "dataset.columns"
      ],
      "execution_count": 0,
      "outputs": []
    },
    {
      "cell_type": "markdown",
      "metadata": {
        "deletable": true,
        "editable": true,
        "id": "yGV5uW-Dgfg-",
        "colab_type": "text"
      },
      "source": [
        "**¿Cuántas filas tiene el *dataset*?**"
      ]
    },
    {
      "cell_type": "code",
      "metadata": {
        "deletable": true,
        "editable": true,
        "id": "bgQiuSRkgfg-",
        "colab_type": "code",
        "colab": {}
      },
      "source": [
        "len(dataset)"
      ],
      "execution_count": 0,
      "outputs": []
    },
    {
      "cell_type": "markdown",
      "metadata": {
        "deletable": true,
        "editable": true,
        "id": "hfpo6hyzgfhB",
        "colab_type": "text"
      },
      "source": [
        "**¿Cómo se ve el *dataset*?**"
      ]
    },
    {
      "cell_type": "code",
      "metadata": {
        "deletable": true,
        "editable": true,
        "id": "btvrxOmtgfhC",
        "colab_type": "code",
        "colab": {}
      },
      "source": [
        "dataset.sample(10)"
      ],
      "execution_count": 0,
      "outputs": []
    },
    {
      "cell_type": "markdown",
      "metadata": {
        "deletable": true,
        "editable": true,
        "id": "rr1YRUT4gfhE",
        "colab_type": "text"
      },
      "source": [
        "Pandas también nos permite responder preguntas un poco más interesantes como:\n",
        "\n",
        "**¿Cuáles son las transacciones que fueron realizadas en Noruega?**"
      ]
    },
    {
      "cell_type": "code",
      "metadata": {
        "deletable": true,
        "editable": true,
        "id": "9leGRdy-gfhF",
        "colab_type": "code",
        "colab": {}
      },
      "source": [
        "dataset[dataset[\"Country\"] == \"Norway\"]"
      ],
      "execution_count": 0,
      "outputs": []
    },
    {
      "cell_type": "markdown",
      "metadata": {
        "deletable": true,
        "editable": true,
        "id": "GsBnAIRDgfhI",
        "colab_type": "text"
      },
      "source": [
        "**¿Cuáles son las transacciones que fueron realizadas con una tarjeta Visa en los Países Bajos?**"
      ]
    },
    {
      "cell_type": "code",
      "metadata": {
        "deletable": true,
        "editable": true,
        "id": "wvmuJCVJgfhJ",
        "colab_type": "code",
        "colab": {}
      },
      "source": [
        "dataset[(dataset[\"Country\"] == \"Netherlands\") & (dataset[\"Payment_Type\"] == \"Visa\")]"
      ],
      "execution_count": 0,
      "outputs": []
    },
    {
      "cell_type": "markdown",
      "metadata": {
        "deletable": true,
        "editable": true,
        "id": "3NgNFgHogfhM",
        "colab_type": "text"
      },
      "source": [
        "La librería pandas nos permite resolver preguntas aun más interesantes, tales como **¿cuáles son los países con la mayor cantidad de transacciones?**. Para contestar esto, haremos uso de `group_by`, que, en palabras sencillas, nos permite agrupar las filas de un DataFrame de acuerdo a alguna(s) columna(s)."
      ]
    },
    {
      "cell_type": "code",
      "metadata": {
        "deletable": true,
        "editable": true,
        "id": "sZ4KRhj-gfhO",
        "colab_type": "code",
        "colab": {}
      },
      "source": [
        "dataset.groupby([\"Country\"]).count()[\"Transaction_date\"].sort_values(ascending=False)[0:4]"
      ],
      "execution_count": 0,
      "outputs": []
    },
    {
      "cell_type": "markdown",
      "metadata": {
        "deletable": true,
        "editable": true,
        "id": "YabMcCfTgfhS",
        "colab_type": "text"
      },
      "source": [
        "Ahora queremos saber cuánto dinero fue transado por cada medio de pago:"
      ]
    },
    {
      "cell_type": "code",
      "metadata": {
        "deletable": true,
        "editable": true,
        "id": "fl7NM5wEgfhS",
        "colab_type": "code",
        "colab": {}
      },
      "source": [
        "dataset.groupby([\"Payment_Type\"])[\"Price\"].sum()"
      ],
      "execution_count": 0,
      "outputs": []
    },
    {
      "cell_type": "markdown",
      "metadata": {
        "deletable": true,
        "editable": true,
        "id": "xwJ11jFYgfhV",
        "colab_type": "text"
      },
      "source": [
        "#### Propuesto: ¿Cuál fue el producto más vendido dentro de Estados Unidos?"
      ]
    },
    {
      "cell_type": "code",
      "metadata": {
        "deletable": true,
        "editable": true,
        "id": "Ufh2SxR1gfhW",
        "colab_type": "code",
        "colab": {}
      },
      "source": [
        "# Escribe tu solución aquí\n",
        "dataset[dataset[\"Country\"] == \"United States\"][\"Product\"].value_counts()"
      ],
      "execution_count": 0,
      "outputs": []
    },
    {
      "cell_type": "markdown",
      "metadata": {
        "id": "lvZ0Xz9ClG4W",
        "colab_type": "text"
      },
      "source": [
        ""
      ]
    },
    {
      "cell_type": "markdown",
      "metadata": {
        "deletable": true,
        "editable": true,
        "id": "2QgnCkx6gfhY",
        "colab_type": "text"
      },
      "source": [
        "El retorno de la celda anterior debería verse más o menos así:"
      ]
    },
    {
      "cell_type": "markdown",
      "metadata": {
        "deletable": true,
        "editable": true,
        "id": "wVe6u8Vhgfha",
        "colab_type": "text"
      },
      "source": [
        "### Agregando información al dataset"
      ]
    },
    {
      "cell_type": "markdown",
      "metadata": {
        "deletable": true,
        "editable": true,
        "id": "4hSq1Nmpgfhb",
        "colab_type": "text"
      },
      "source": [
        "Queremos agregar una columna que indique cuán satisfecho quedó el cliente con su transacción. La medida de satisfacción que utilizaremos será una nota de 1 a 5. Primero definimos una función que entregue $n$ *ratings* aleatorios."
      ]
    },
    {
      "cell_type": "code",
      "metadata": {
        "deletable": true,
        "editable": true,
        "id": "M0BKidmugfhb",
        "colab_type": "code",
        "colab": {}
      },
      "source": [
        "import random\n",
        "\n",
        "def random_ratings(number):\n",
        "    ratings = []\n",
        "    for i in range(number):\n",
        "        rating = random.choice(range(1,6))\n",
        "        ratings.append(rating)\n",
        "    return ratings"
      ],
      "execution_count": 0,
      "outputs": []
    },
    {
      "cell_type": "markdown",
      "metadata": {
        "deletable": true,
        "editable": true,
        "id": "cgihZN1Qgfhe",
        "colab_type": "text"
      },
      "source": [
        "Ahora agregamos la columna de ratings de la siguiente manera:"
      ]
    },
    {
      "cell_type": "code",
      "metadata": {
        "deletable": true,
        "editable": true,
        "id": "5_CiaZRfgfhe",
        "colab_type": "code",
        "colab": {}
      },
      "source": [
        "ratings = random_ratings(len(dataset))\n",
        "dataset[\"Rating\"] = ratings"
      ],
      "execution_count": 0,
      "outputs": []
    },
    {
      "cell_type": "markdown",
      "metadata": {
        "deletable": true,
        "editable": true,
        "id": "sbtwDSBMgfhh",
        "colab_type": "text"
      },
      "source": [
        "Revisemos si efectivamente se añadió la columna:"
      ]
    },
    {
      "cell_type": "code",
      "metadata": {
        "deletable": true,
        "editable": true,
        "id": "dEtgi5nZgfhi",
        "colab_type": "code",
        "colab": {}
      },
      "source": [
        "dataset.sample(5)"
      ],
      "execution_count": 0,
      "outputs": []
    },
    {
      "cell_type": "markdown",
      "metadata": {
        "deletable": true,
        "editable": true,
        "id": "aIiRENAfgfhn",
        "colab_type": "text"
      },
      "source": [
        "Imaginemos que queremos cambiar los números de rating 1-5 a algo más descriptivo:\n",
        "\n",
        "- 1: Very Dissatisfied.\n",
        "- 2: Somewhat Dissatisfied.\n",
        "- 3: Neither Satisfied Nor Dissatisfied.\n",
        "- 4: Somewhat Satisfied.\n",
        "- 5: Very Satisfied.\n",
        "\n",
        "¿Cómo lo hacemos? El método `apply` nos ayudará mucho.\n",
        "\n",
        "En primer lugar, conviene definir una función que dado un *rating* numérico, retorne la medida de satisfacción en palabras:\n"
      ]
    },
    {
      "cell_type": "code",
      "metadata": {
        "deletable": true,
        "editable": true,
        "id": "JCoSwh4ngfhp",
        "colab_type": "code",
        "colab": {}
      },
      "source": [
        "def convert(rating):\n",
        "    if rating == 1:\n",
        "        return \"Very Dissatisfied\"\n",
        "    elif rating == 2:\n",
        "        return \"Somewhat Dissatisfied\"\n",
        "    elif rating == 3:\n",
        "        return \"Neither Satisfied Nor Dissatisfied\"\n",
        "    elif rating == 4:\n",
        "        return \"Somewhat Satisfied\"\n",
        "    else:\n",
        "        return \"Very Satisfied\""
      ],
      "execution_count": 0,
      "outputs": []
    },
    {
      "cell_type": "markdown",
      "metadata": {
        "deletable": true,
        "editable": true,
        "id": "oke6HtCjgfhx",
        "colab_type": "text"
      },
      "source": [
        "Posteriormente, aplicamos la función a la columna *Ratings*:"
      ]
    },
    {
      "cell_type": "code",
      "metadata": {
        "deletable": true,
        "editable": true,
        "id": "tKleN0yMgfhy",
        "colab_type": "code",
        "colab": {}
      },
      "source": [
        "dataset[\"Rating\"] = dataset[\"Rating\"].apply(convert)"
      ],
      "execution_count": 0,
      "outputs": []
    },
    {
      "cell_type": "markdown",
      "metadata": {
        "deletable": true,
        "editable": true,
        "id": "fEd9OCQfgfh1",
        "colab_type": "text"
      },
      "source": [
        "Veamos cómo quedó el dataset:"
      ]
    },
    {
      "cell_type": "code",
      "metadata": {
        "deletable": true,
        "editable": true,
        "id": "J-qDo50Wgfh1",
        "colab_type": "code",
        "colab": {}
      },
      "source": [
        "dataset.head()"
      ],
      "execution_count": 0,
      "outputs": []
    },
    {
      "cell_type": "markdown",
      "metadata": {
        "deletable": true,
        "editable": true,
        "id": "9G5O1SpMgfh4",
        "colab_type": "text"
      },
      "source": [
        "Esto ha sido solo una pequeña introducción a pandas. Es muy posible que en tu tarea debas emplear algunas cosas que no vimos en esta ayudantía, por lo que deberás investigar por tu cuenta. Recuerda que ante cualquier duda, los ayudantes estamos a tu completa disposición."
      ]
    }
  ]
}