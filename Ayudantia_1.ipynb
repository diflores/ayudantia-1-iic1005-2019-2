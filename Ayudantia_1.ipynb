{
  "nbformat": 4,
  "nbformat_minor": 0,
  "metadata": {
    "kernelspec": {
      "display_name": "Python 3",
      "language": "python",
      "name": "python3"
    },
    "language_info": {
      "codemirror_mode": {
        "name": "ipython",
        "version": 3
      },
      "file_extension": ".py",
      "mimetype": "text/x-python",
      "name": "python",
      "nbconvert_exporter": "python",
      "pygments_lexer": "ipython3",
      "version": "3.6.3"
    },
    "colab": {
      "name": "Ayudantia_1.ipynb",
      "version": "0.3.2",
      "provenance": [],
      "collapsed_sections": [],
      "include_colab_link": true
    }
  },
  "cells": [
    {
      "cell_type": "markdown",
      "metadata": {
        "id": "view-in-github",
        "colab_type": "text"
      },
      "source": [
        "<a href=\"https://colab.research.google.com/github/diflores/ayudantia-1-iic1005-2019-2/blob/master/Ayudantia_1.ipynb\" target=\"_parent\"><img src=\"https://colab.research.google.com/assets/colab-badge.svg\" alt=\"Open In Colab\"/></a>"
      ]
    },
    {
      "cell_type": "markdown",
      "metadata": {
        "deletable": true,
        "editable": true,
        "id": "l905IZ4Qgfgq",
        "colab_type": "text"
      },
      "source": [
        "# IIC1005: Ayudantía 1\n",
        "\n",
        "#### 14 de marzo de 2018.\n",
        "\n",
        "###### Esta ayudantía está inspirada en la Ayudantía 2 de la versión 2017-2 de este curso. Puedes encontrar la original [aquí](https://github.com/diflores/iic1005-ayudantia-2)."
      ]
    },
    {
      "cell_type": "markdown",
      "metadata": {
        "deletable": true,
        "editable": true,
        "id": "LOB49z9mgfgs",
        "colab_type": "text"
      },
      "source": [
        "## *Jupyter notebooks*\n",
        "\n",
        "**¿Qué es un *notebook*?**\n",
        "\n",
        "Un *notebook* es un documento generado por la *Jupyter Notebook App*. Estos documentos contienen código ejecutable y también elementos más amigables para el ser humano común, tales como párrafos, ecuaciones e hipervínculos. Estas características convierten a los *notebooks* en herramientas ideales para aprender Python, procesar datos y aventurarse *machine learning*.\n",
        "\n",
        "Los *notebooks* se componen de una serie de celdas, que pueden ser de distintos tipos. Por lo general, utilizaremos solo dos:\n",
        "\n",
        "- Code (para escribir código ejecutable).\n",
        "- [*Markdown*](https://guides.github.com/features/mastering-markdown/) (para escribir párrafos en dicho lenguage de marcación).\n",
        "\n",
        "La celda actual es una celda de tipo *markdown*. La siguiente, corresponde a una de tipo *code*. Puedes ejecutar su código presionando el ícono ▶️:"
      ]
    },
    {
      "cell_type": "code",
      "metadata": {
        "deletable": true,
        "editable": true,
        "id": "iwLDiJPUgfgt",
        "colab_type": "code",
        "colab": {
          "base_uri": "https://localhost:8080/",
          "height": 35
        },
        "outputId": "68c34d6a-104b-4447-dcf1-ae994117ceed"
      },
      "source": [
        "print(\"¡Hola mundo!\")"
      ],
      "execution_count": 22,
      "outputs": [
        {
          "output_type": "stream",
          "text": [
            "¡Hola mundo!\n"
          ],
          "name": "stdout"
        }
      ]
    },
    {
      "cell_type": "markdown",
      "metadata": {
        "deletable": true,
        "editable": true,
        "id": "JvmoDhOGgfg0",
        "colab_type": "text"
      },
      "source": [
        "También puedes ejecutar el código de una celda presionando shift + enter, lo que ejecutará el código y avanzará a la celda siguiente. Si deseas ejecutar el código, pero mantenerte en la celda correspondiente, utiliza ctrl + enter. Si quieres aprender más atajos de teclado, presiona esc + h"
      ]
    },
    {
      "cell_type": "markdown",
      "metadata": {
        "deletable": true,
        "editable": true,
        "id": "CBBxfqtfgfg1",
        "colab_type": "text"
      },
      "source": [
        "## Pandas\n",
        "\n",
        "**¿Qué es pandas?**\n",
        "\n",
        "Pandas es una librería de Python que nos permitirá manipular datos de manera sencilla.\n",
        "\n",
        "**¿Por qué no utilizamos las estructuras de datos de Python para esto?**\n",
        "\n",
        "Porque aun cuando sirvan para solucionar el problema, su uso en esta misión no es eficiente. \n",
        "\n",
        "### Conceptos básicos de pandas: *Series* y *DataFrames*\n",
        "\n",
        "Pandas cuenta con dos estructuras de datos principales, las *Series* y los *DataFrames*. Una Series puede ser comprendida como una columna de datos. Un *DataFrame*, por su parte, puede ser visto como un conjunto de *Series*.\n",
        "\n",
        "A continuación, revisaremos un ejemplo sencillo, que nos permitirá introducirnos al uso de pandas. Lo primero que debemos hacer es importar la librería:"
      ]
    },
    {
      "cell_type": "code",
      "metadata": {
        "deletable": true,
        "editable": true,
        "id": "gQowfEPBgfg2",
        "colab_type": "code",
        "colab": {}
      },
      "source": [
        "import pandas as pd"
      ],
      "execution_count": 0,
      "outputs": []
    },
    {
      "cell_type": "markdown",
      "metadata": {
        "deletable": true,
        "editable": true,
        "id": "AcQ47MSrgfg4",
        "colab_type": "text"
      },
      "source": [
        "En este ejemplo, utilizaremos un *dataset* de transacciones de enero de 2009, el que fue obtenido desde [aquí](https://support.spatialkey.com/spatialkey-sample-csv-data/). Lo primero que debemos hacer es cargar los datos. Para ello, la librería pandas provee un método muy útil llamado `read_csv`."
      ]
    },
    {
      "cell_type": "code",
      "metadata": {
        "id": "vwKYgQY8hBQX",
        "colab_type": "code",
        "colab": {
          "base_uri": "https://localhost:8080/",
          "height": 235
        },
        "outputId": "3ade7562-6991-4def-dc07-23cee31252f5"
      },
      "source": [
        "!wget -O SalesJan2009.csv https://gist.githubusercontent.com/diflores/e11af543eb64090d2446f231f2e84f0f/raw/94cdd2b4de0716ba70ef89b69674d53737ce8a9c/SalesJan2009.csv"
      ],
      "execution_count": 3,
      "outputs": [
        {
          "output_type": "stream",
          "text": [
            "--2019-08-21 19:42:56--  https://gist.githubusercontent.com/diflores/e11af543eb64090d2446f231f2e84f0f/raw/94cdd2b4de0716ba70ef89b69674d53737ce8a9c/SalesJan2009.csv\n",
            "Resolving gist.githubusercontent.com (gist.githubusercontent.com)... 151.101.0.133, 151.101.64.133, 151.101.128.133, ...\n",
            "Connecting to gist.githubusercontent.com (gist.githubusercontent.com)|151.101.0.133|:443... connected.\n",
            "HTTP request sent, awaiting response... 200 OK\n",
            "Length: 114979 (112K) [text/plain]\n",
            "Saving to: ‘SalesJan2009.csv’\n",
            "\n",
            "\rSalesJan2009.csv      0%[                    ]       0  --.-KB/s               \rSalesJan2009.csv    100%[===================>] 112.28K  --.-KB/s    in 0.04s   \n",
            "\n",
            "2019-08-21 19:42:56 (2.97 MB/s) - ‘SalesJan2009.csv’ saved [114979/114979]\n",
            "\n"
          ],
          "name": "stdout"
        }
      ]
    },
    {
      "cell_type": "code",
      "metadata": {
        "deletable": true,
        "editable": true,
        "id": "VU9h9tjIgfg5",
        "colab_type": "code",
        "colab": {}
      },
      "source": [
        "dataset = pd.read_csv(\"SalesJan2009.csv\")"
      ],
      "execution_count": 0,
      "outputs": []
    },
    {
      "cell_type": "markdown",
      "metadata": {
        "deletable": true,
        "editable": true,
        "id": "a25RB_4Pgfg7",
        "colab_type": "text"
      },
      "source": [
        "### Explorando los datos mediante preguntas *interesantes*\n",
        "Antes de manipular los datos, es conveniente explorarlos. Inicialmente, podríamos preguntarnos: ¿qué columnas contiene el *dataset* recién cargado? Podemos obtener esta información ejecutando la siguiente celda:"
      ]
    },
    {
      "cell_type": "code",
      "metadata": {
        "deletable": true,
        "editable": true,
        "id": "XV9Wslxhgfg7",
        "colab_type": "code",
        "colab": {
          "base_uri": "https://localhost:8080/",
          "height": 89
        },
        "outputId": "1aca2f36-c1c5-4410-c372-6f7a3b267908"
      },
      "source": [
        "dataset.columns"
      ],
      "execution_count": 5,
      "outputs": [
        {
          "output_type": "execute_result",
          "data": {
            "text/plain": [
              "Index(['Transaction_date', 'Product', 'Price', 'Payment_Type', 'Name', 'City',\n",
              "       'State', 'Country', 'Account_Created', 'Last_Login', 'Latitude',\n",
              "       'Longitude'],\n",
              "      dtype='object')"
            ]
          },
          "metadata": {
            "tags": []
          },
          "execution_count": 5
        }
      ]
    },
    {
      "cell_type": "markdown",
      "metadata": {
        "deletable": true,
        "editable": true,
        "id": "yGV5uW-Dgfg-",
        "colab_type": "text"
      },
      "source": [
        "**¿Cuántas filas tiene el *dataset*?**"
      ]
    },
    {
      "cell_type": "code",
      "metadata": {
        "deletable": true,
        "editable": true,
        "id": "bgQiuSRkgfg-",
        "colab_type": "code",
        "colab": {
          "base_uri": "https://localhost:8080/",
          "height": 35
        },
        "outputId": "dc517992-881d-42c5-8ab4-19f7176108dd"
      },
      "source": [
        "len(dataset)"
      ],
      "execution_count": 6,
      "outputs": [
        {
          "output_type": "execute_result",
          "data": {
            "text/plain": [
              "998"
            ]
          },
          "metadata": {
            "tags": []
          },
          "execution_count": 6
        }
      ]
    },
    {
      "cell_type": "markdown",
      "metadata": {
        "deletable": true,
        "editable": true,
        "id": "hfpo6hyzgfhB",
        "colab_type": "text"
      },
      "source": [
        "**¿Cómo se ve el *dataset*?**"
      ]
    },
    {
      "cell_type": "code",
      "metadata": {
        "deletable": true,
        "editable": true,
        "id": "btvrxOmtgfhC",
        "colab_type": "code",
        "colab": {
          "base_uri": "https://localhost:8080/",
          "height": 359
        },
        "outputId": "18b33c2c-4e5d-41da-ef0e-db95faae0950"
      },
      "source": [
        "dataset.sample(10)"
      ],
      "execution_count": 7,
      "outputs": [
        {
          "output_type": "execute_result",
          "data": {
            "text/html": [
              "<div>\n",
              "<style scoped>\n",
              "    .dataframe tbody tr th:only-of-type {\n",
              "        vertical-align: middle;\n",
              "    }\n",
              "\n",
              "    .dataframe tbody tr th {\n",
              "        vertical-align: top;\n",
              "    }\n",
              "\n",
              "    .dataframe thead th {\n",
              "        text-align: right;\n",
              "    }\n",
              "</style>\n",
              "<table border=\"1\" class=\"dataframe\">\n",
              "  <thead>\n",
              "    <tr style=\"text-align: right;\">\n",
              "      <th></th>\n",
              "      <th>Transaction_date</th>\n",
              "      <th>Product</th>\n",
              "      <th>Price</th>\n",
              "      <th>Payment_Type</th>\n",
              "      <th>Name</th>\n",
              "      <th>City</th>\n",
              "      <th>State</th>\n",
              "      <th>Country</th>\n",
              "      <th>Account_Created</th>\n",
              "      <th>Last_Login</th>\n",
              "      <th>Latitude</th>\n",
              "      <th>Longitude</th>\n",
              "    </tr>\n",
              "  </thead>\n",
              "  <tbody>\n",
              "    <tr>\n",
              "      <th>362</th>\n",
              "      <td>1/13/09 8:20</td>\n",
              "      <td>Product1</td>\n",
              "      <td>1200</td>\n",
              "      <td>Mastercard</td>\n",
              "      <td>Zane</td>\n",
              "      <td>Warlingham</td>\n",
              "      <td>England</td>\n",
              "      <td>United Kingdom</td>\n",
              "      <td>3/4/05 5:51</td>\n",
              "      <td>1/29/09 3:25</td>\n",
              "      <td>51.300000</td>\n",
              "      <td>-0.050000</td>\n",
              "    </tr>\n",
              "    <tr>\n",
              "      <th>738</th>\n",
              "      <td>1/29/09 17:13</td>\n",
              "      <td>Product1</td>\n",
              "      <td>1200</td>\n",
              "      <td>Amex</td>\n",
              "      <td>alix</td>\n",
              "      <td>Tenafly NJ</td>\n",
              "      <td>United States</td>\n",
              "      <td>12/12/07 12:26</td>\n",
              "      <td>2/16/09 10:19</td>\n",
              "      <td>40.92528</td>\n",
              "      <td>-73.963330</td>\n",
              "      <td>NaN</td>\n",
              "    </tr>\n",
              "    <tr>\n",
              "      <th>37</th>\n",
              "      <td>1/8/09 16:24</td>\n",
              "      <td>Product1</td>\n",
              "      <td>1200</td>\n",
              "      <td>Visa</td>\n",
              "      <td>jennifer</td>\n",
              "      <td>Phoenix AZ</td>\n",
              "      <td>United States</td>\n",
              "      <td>1/8/09 15:57</td>\n",
              "      <td>1/8/09 18:30</td>\n",
              "      <td>33.44833</td>\n",
              "      <td>-112.073330</td>\n",
              "      <td>NaN</td>\n",
              "    </tr>\n",
              "    <tr>\n",
              "      <th>648</th>\n",
              "      <td>1/9/09 20:25</td>\n",
              "      <td>Product1</td>\n",
              "      <td>1200</td>\n",
              "      <td>Diners</td>\n",
              "      <td>Mona</td>\n",
              "      <td>Kelowna</td>\n",
              "      <td>British Columbia</td>\n",
              "      <td>Canada</td>\n",
              "      <td>1/9/09 14:20</td>\n",
              "      <td>2/11/09 20:19</td>\n",
              "      <td>49.900000</td>\n",
              "      <td>-119.483333</td>\n",
              "    </tr>\n",
              "    <tr>\n",
              "      <th>908</th>\n",
              "      <td>1/23/09 9:27</td>\n",
              "      <td>Product1</td>\n",
              "      <td>1200</td>\n",
              "      <td>Mastercard</td>\n",
              "      <td>Jerome</td>\n",
              "      <td>Madrid</td>\n",
              "      <td>Madrid</td>\n",
              "      <td>Spain</td>\n",
              "      <td>2/19/08 2:01</td>\n",
              "      <td>2/25/09 11:38</td>\n",
              "      <td>40.400000</td>\n",
              "      <td>-3.683333</td>\n",
              "    </tr>\n",
              "    <tr>\n",
              "      <th>678</th>\n",
              "      <td>1/14/09 16:02</td>\n",
              "      <td>Product1</td>\n",
              "      <td>1200</td>\n",
              "      <td>Mastercard</td>\n",
              "      <td>Jessica</td>\n",
              "      <td>Woodland Hills</td>\n",
              "      <td>CA</td>\n",
              "      <td>United States</td>\n",
              "      <td>1/14/09 14:53</td>\n",
              "      <td>2/13/09 16:45</td>\n",
              "      <td>34.168330</td>\n",
              "      <td>-118.605000</td>\n",
              "    </tr>\n",
              "    <tr>\n",
              "      <th>863</th>\n",
              "      <td>1/15/09 15:56</td>\n",
              "      <td>Product2</td>\n",
              "      <td>3600</td>\n",
              "      <td>Visa</td>\n",
              "      <td>Charmain</td>\n",
              "      <td>Cartersburg  IN</td>\n",
              "      <td>United States</td>\n",
              "      <td>1/2/08 10:51</td>\n",
              "      <td>2/23/09 6:24</td>\n",
              "      <td>39.69861</td>\n",
              "      <td>-86.463610</td>\n",
              "      <td>NaN</td>\n",
              "    </tr>\n",
              "    <tr>\n",
              "      <th>20</th>\n",
              "      <td>1/6/09 12:56</td>\n",
              "      <td>Product1</td>\n",
              "      <td>1200</td>\n",
              "      <td>Visa</td>\n",
              "      <td>Jeremy</td>\n",
              "      <td>Manchester</td>\n",
              "      <td>England</td>\n",
              "      <td>United Kingdom</td>\n",
              "      <td>1/6/09 10:58</td>\n",
              "      <td>1/6/09 13:31</td>\n",
              "      <td>53.500000</td>\n",
              "      <td>-2.216667</td>\n",
              "    </tr>\n",
              "    <tr>\n",
              "      <th>461</th>\n",
              "      <td>1/25/09 8:54</td>\n",
              "      <td>Product1</td>\n",
              "      <td>1200</td>\n",
              "      <td>Amex</td>\n",
              "      <td>Corinne</td>\n",
              "      <td>Anthem</td>\n",
              "      <td>AZ</td>\n",
              "      <td>United States</td>\n",
              "      <td>3/26/06 17:32</td>\n",
              "      <td>2/3/09 9:50</td>\n",
              "      <td>33.867220</td>\n",
              "      <td>-112.146110</td>\n",
              "    </tr>\n",
              "    <tr>\n",
              "      <th>972</th>\n",
              "      <td>1/4/09 9:28</td>\n",
              "      <td>Product1</td>\n",
              "      <td>1200</td>\n",
              "      <td>Visa</td>\n",
              "      <td>Jen</td>\n",
              "      <td>Maidstone</td>\n",
              "      <td>England</td>\n",
              "      <td>United Kingdom</td>\n",
              "      <td>7/18/05 14:17</td>\n",
              "      <td>2/28/09 2:28</td>\n",
              "      <td>51.266667</td>\n",
              "      <td>0.516667</td>\n",
              "    </tr>\n",
              "  </tbody>\n",
              "</table>\n",
              "</div>"
            ],
            "text/plain": [
              "    Transaction_date   Product Price  ...     Last_Login    Latitude   Longitude\n",
              "362     1/13/09 8:20  Product1  1200  ...   1/29/09 3:25   51.300000   -0.050000\n",
              "738    1/29/09 17:13  Product1  1200  ...       40.92528  -73.963330         NaN\n",
              "37      1/8/09 16:24  Product1  1200  ...       33.44833 -112.073330         NaN\n",
              "648     1/9/09 20:25  Product1  1200  ...  2/11/09 20:19   49.900000 -119.483333\n",
              "908     1/23/09 9:27  Product1  1200  ...  2/25/09 11:38   40.400000   -3.683333\n",
              "678    1/14/09 16:02  Product1  1200  ...  2/13/09 16:45   34.168330 -118.605000\n",
              "863    1/15/09 15:56  Product2  3600  ...       39.69861  -86.463610         NaN\n",
              "20      1/6/09 12:56  Product1  1200  ...   1/6/09 13:31   53.500000   -2.216667\n",
              "461     1/25/09 8:54  Product1  1200  ...    2/3/09 9:50   33.867220 -112.146110\n",
              "972      1/4/09 9:28  Product1  1200  ...   2/28/09 2:28   51.266667    0.516667\n",
              "\n",
              "[10 rows x 12 columns]"
            ]
          },
          "metadata": {
            "tags": []
          },
          "execution_count": 7
        }
      ]
    },
    {
      "cell_type": "markdown",
      "metadata": {
        "deletable": true,
        "editable": true,
        "id": "rr1YRUT4gfhE",
        "colab_type": "text"
      },
      "source": [
        "Pandas también nos permite responder preguntas un poco más interesantes como:\n",
        "\n",
        "**¿Cuáles son las transacciones que fueron realizadas en Noruega?**"
      ]
    },
    {
      "cell_type": "code",
      "metadata": {
        "deletable": true,
        "editable": true,
        "id": "9leGRdy-gfhF",
        "colab_type": "code",
        "colab": {
          "base_uri": "https://localhost:8080/",
          "height": 483
        },
        "outputId": "332a6f1c-5344-426f-aa37-da165ec8cdb2"
      },
      "source": [
        "dataset[dataset[\"Country\"] == \"Norway\"]"
      ],
      "execution_count": 8,
      "outputs": [
        {
          "output_type": "execute_result",
          "data": {
            "text/html": [
              "<div>\n",
              "<style scoped>\n",
              "    .dataframe tbody tr th:only-of-type {\n",
              "        vertical-align: middle;\n",
              "    }\n",
              "\n",
              "    .dataframe tbody tr th {\n",
              "        vertical-align: top;\n",
              "    }\n",
              "\n",
              "    .dataframe thead th {\n",
              "        text-align: right;\n",
              "    }\n",
              "</style>\n",
              "<table border=\"1\" class=\"dataframe\">\n",
              "  <thead>\n",
              "    <tr style=\"text-align: right;\">\n",
              "      <th></th>\n",
              "      <th>Transaction_date</th>\n",
              "      <th>Product</th>\n",
              "      <th>Price</th>\n",
              "      <th>Payment_Type</th>\n",
              "      <th>Name</th>\n",
              "      <th>City</th>\n",
              "      <th>State</th>\n",
              "      <th>Country</th>\n",
              "      <th>Account_Created</th>\n",
              "      <th>Last_Login</th>\n",
              "      <th>Latitude</th>\n",
              "      <th>Longitude</th>\n",
              "    </tr>\n",
              "  </thead>\n",
              "  <tbody>\n",
              "    <tr>\n",
              "      <th>67</th>\n",
              "      <td>1/11/09 11:33</td>\n",
              "      <td>Product1</td>\n",
              "      <td>1200</td>\n",
              "      <td>Visa</td>\n",
              "      <td>Stefan</td>\n",
              "      <td>Stavanger</td>\n",
              "      <td>Rogaland</td>\n",
              "      <td>Norway</td>\n",
              "      <td>1/11/09 9:02</td>\n",
              "      <td>1/12/09 10:37</td>\n",
              "      <td>58.966667</td>\n",
              "      <td>5.750000</td>\n",
              "    </tr>\n",
              "    <tr>\n",
              "      <th>79</th>\n",
              "      <td>1/8/09 13:14</td>\n",
              "      <td>Product1</td>\n",
              "      <td>1200</td>\n",
              "      <td>Visa</td>\n",
              "      <td>Dr. Claudia</td>\n",
              "      <td>Oslo</td>\n",
              "      <td>Oslo</td>\n",
              "      <td>Norway</td>\n",
              "      <td>1/8/09 12:47</td>\n",
              "      <td>1/13/09 10:49</td>\n",
              "      <td>59.916667</td>\n",
              "      <td>10.750000</td>\n",
              "    </tr>\n",
              "    <tr>\n",
              "      <th>213</th>\n",
              "      <td>1/21/09 11:36</td>\n",
              "      <td>Product1</td>\n",
              "      <td>1200</td>\n",
              "      <td>Visa</td>\n",
              "      <td>nicole</td>\n",
              "      <td>Oslo</td>\n",
              "      <td>Oslo</td>\n",
              "      <td>Norway</td>\n",
              "      <td>12/23/08 12:02</td>\n",
              "      <td>1/21/09 13:47</td>\n",
              "      <td>59.916667</td>\n",
              "      <td>10.750000</td>\n",
              "    </tr>\n",
              "    <tr>\n",
              "      <th>234</th>\n",
              "      <td>1/1/09 14:22</td>\n",
              "      <td>Product1</td>\n",
              "      <td>1200</td>\n",
              "      <td>Mastercard</td>\n",
              "      <td>Liban</td>\n",
              "      <td>Stavanger</td>\n",
              "      <td>Rogaland</td>\n",
              "      <td>Norway</td>\n",
              "      <td>6/19/08 10:48</td>\n",
              "      <td>1/22/09 14:38</td>\n",
              "      <td>58.966667</td>\n",
              "      <td>5.750000</td>\n",
              "    </tr>\n",
              "    <tr>\n",
              "      <th>262</th>\n",
              "      <td>1/10/09 3:28</td>\n",
              "      <td>Product1</td>\n",
              "      <td>1200</td>\n",
              "      <td>Visa</td>\n",
              "      <td>frauke</td>\n",
              "      <td>Horten</td>\n",
              "      <td>Vestfold</td>\n",
              "      <td>Norway</td>\n",
              "      <td>11/24/08 15:50</td>\n",
              "      <td>1/24/09 15:10</td>\n",
              "      <td>59.413611</td>\n",
              "      <td>10.466944</td>\n",
              "    </tr>\n",
              "    <tr>\n",
              "      <th>387</th>\n",
              "      <td>1/11/09 14:56</td>\n",
              "      <td>Product1</td>\n",
              "      <td>1200</td>\n",
              "      <td>Visa</td>\n",
              "      <td>Nicole</td>\n",
              "      <td>Aardal</td>\n",
              "      <td>Sogn og Fjordane</td>\n",
              "      <td>Norway</td>\n",
              "      <td>1/5/09 5:51</td>\n",
              "      <td>1/31/09 4:21</td>\n",
              "      <td>61.550000</td>\n",
              "      <td>6.350000</td>\n",
              "    </tr>\n",
              "    <tr>\n",
              "      <th>408</th>\n",
              "      <td>1/9/09 16:35</td>\n",
              "      <td>Product1</td>\n",
              "      <td>1200</td>\n",
              "      <td>Diners</td>\n",
              "      <td>Jennifer</td>\n",
              "      <td>Nordstrand</td>\n",
              "      <td>Oslo</td>\n",
              "      <td>Norway</td>\n",
              "      <td>12/29/05 9:26</td>\n",
              "      <td>2/1/09 4:18</td>\n",
              "      <td>59.860833</td>\n",
              "      <td>10.790556</td>\n",
              "    </tr>\n",
              "    <tr>\n",
              "      <th>429</th>\n",
              "      <td>1/6/09 3:39</td>\n",
              "      <td>Product1</td>\n",
              "      <td>1200</td>\n",
              "      <td>Visa</td>\n",
              "      <td>Krista</td>\n",
              "      <td>Bergen</td>\n",
              "      <td>Hordaland</td>\n",
              "      <td>Norway</td>\n",
              "      <td>9/20/05 1:58</td>\n",
              "      <td>2/2/09 0:08</td>\n",
              "      <td>60.391111</td>\n",
              "      <td>5.324722</td>\n",
              "    </tr>\n",
              "    <tr>\n",
              "      <th>608</th>\n",
              "      <td>1/13/09 9:14</td>\n",
              "      <td>Product1</td>\n",
              "      <td>1200</td>\n",
              "      <td>Visa</td>\n",
              "      <td>sangeeta</td>\n",
              "      <td>Vossevangen</td>\n",
              "      <td>Hordaland</td>\n",
              "      <td>Norway</td>\n",
              "      <td>1/9/09 9:31</td>\n",
              "      <td>2/10/09 9:04</td>\n",
              "      <td>60.633333</td>\n",
              "      <td>6.433333</td>\n",
              "    </tr>\n",
              "    <tr>\n",
              "      <th>683</th>\n",
              "      <td>1/28/09 4:35</td>\n",
              "      <td>Product1</td>\n",
              "      <td>1200</td>\n",
              "      <td>Diners</td>\n",
              "      <td>Selene</td>\n",
              "      <td>Oslo</td>\n",
              "      <td>Oslo</td>\n",
              "      <td>Norway</td>\n",
              "      <td>4/5/05 5:30</td>\n",
              "      <td>2/13/09 23:15</td>\n",
              "      <td>59.916667</td>\n",
              "      <td>10.750000</td>\n",
              "    </tr>\n",
              "    <tr>\n",
              "      <th>831</th>\n",
              "      <td>1/25/09 8:16</td>\n",
              "      <td>Product2</td>\n",
              "      <td>3600</td>\n",
              "      <td>Visa</td>\n",
              "      <td>Astrid</td>\n",
              "      <td>Oslo</td>\n",
              "      <td>Oslo</td>\n",
              "      <td>Norway</td>\n",
              "      <td>4/22/07 2:19</td>\n",
              "      <td>2/20/09 23:22</td>\n",
              "      <td>59.916667</td>\n",
              "      <td>10.750000</td>\n",
              "    </tr>\n",
              "    <tr>\n",
              "      <th>897</th>\n",
              "      <td>1/19/09 10:47</td>\n",
              "      <td>Product1</td>\n",
              "      <td>1200</td>\n",
              "      <td>Mastercard</td>\n",
              "      <td>David</td>\n",
              "      <td>Stavenger</td>\n",
              "      <td>Rogaland</td>\n",
              "      <td>Norway</td>\n",
              "      <td>1/13/09 13:53</td>\n",
              "      <td>2/25/09 0:40</td>\n",
              "      <td>58.966667</td>\n",
              "      <td>5.750000</td>\n",
              "    </tr>\n",
              "    <tr>\n",
              "      <th>909</th>\n",
              "      <td>1/22/09 12:56</td>\n",
              "      <td>Product1</td>\n",
              "      <td>1200</td>\n",
              "      <td>Visa</td>\n",
              "      <td>Laleh</td>\n",
              "      <td>Aasgaardstrand</td>\n",
              "      <td>Vestfold</td>\n",
              "      <td>Norway</td>\n",
              "      <td>1/20/09 13:13</td>\n",
              "      <td>2/25/09 12:03</td>\n",
              "      <td>59.348889</td>\n",
              "      <td>10.467500</td>\n",
              "    </tr>\n",
              "    <tr>\n",
              "      <th>925</th>\n",
              "      <td>1/2/09 4:21</td>\n",
              "      <td>Product1</td>\n",
              "      <td>1200</td>\n",
              "      <td>Visa</td>\n",
              "      <td>Elaine</td>\n",
              "      <td>Tranby</td>\n",
              "      <td>Buskerud</td>\n",
              "      <td>Norway</td>\n",
              "      <td>7/30/07 11:42</td>\n",
              "      <td>2/26/09 3:18</td>\n",
              "      <td>59.816667</td>\n",
              "      <td>10.250000</td>\n",
              "    </tr>\n",
              "  </tbody>\n",
              "</table>\n",
              "</div>"
            ],
            "text/plain": [
              "    Transaction_date   Product Price  ...     Last_Login   Latitude  Longitude\n",
              "67     1/11/09 11:33  Product1  1200  ...  1/12/09 10:37  58.966667   5.750000\n",
              "79      1/8/09 13:14  Product1  1200  ...  1/13/09 10:49  59.916667  10.750000\n",
              "213    1/21/09 11:36  Product1  1200  ...  1/21/09 13:47  59.916667  10.750000\n",
              "234     1/1/09 14:22  Product1  1200  ...  1/22/09 14:38  58.966667   5.750000\n",
              "262     1/10/09 3:28  Product1  1200  ...  1/24/09 15:10  59.413611  10.466944\n",
              "387    1/11/09 14:56  Product1  1200  ...   1/31/09 4:21  61.550000   6.350000\n",
              "408     1/9/09 16:35  Product1  1200  ...    2/1/09 4:18  59.860833  10.790556\n",
              "429      1/6/09 3:39  Product1  1200  ...    2/2/09 0:08  60.391111   5.324722\n",
              "608     1/13/09 9:14  Product1  1200  ...   2/10/09 9:04  60.633333   6.433333\n",
              "683     1/28/09 4:35  Product1  1200  ...  2/13/09 23:15  59.916667  10.750000\n",
              "831     1/25/09 8:16  Product2  3600  ...  2/20/09 23:22  59.916667  10.750000\n",
              "897    1/19/09 10:47  Product1  1200  ...   2/25/09 0:40  58.966667   5.750000\n",
              "909    1/22/09 12:56  Product1  1200  ...  2/25/09 12:03  59.348889  10.467500\n",
              "925      1/2/09 4:21  Product1  1200  ...   2/26/09 3:18  59.816667  10.250000\n",
              "\n",
              "[14 rows x 12 columns]"
            ]
          },
          "metadata": {
            "tags": []
          },
          "execution_count": 8
        }
      ]
    },
    {
      "cell_type": "markdown",
      "metadata": {
        "deletable": true,
        "editable": true,
        "id": "GsBnAIRDgfhI",
        "colab_type": "text"
      },
      "source": [
        "**¿Cuáles son las transacciones que fueron realizadas con una tarjeta Visa en los Países Bajos?**"
      ]
    },
    {
      "cell_type": "code",
      "metadata": {
        "deletable": true,
        "editable": true,
        "id": "wvmuJCVJgfhJ",
        "colab_type": "code",
        "colab": {
          "base_uri": "https://localhost:8080/",
          "height": 173
        },
        "outputId": "364fc696-bb11-42d7-9a70-e7c832acc644"
      },
      "source": [
        "dataset[(dataset[\"Country\"] == \"Netherlands\") & (dataset[\"Payment_Type\"] == \"Visa\")]"
      ],
      "execution_count": 9,
      "outputs": [
        {
          "output_type": "execute_result",
          "data": {
            "text/html": [
              "<div>\n",
              "<style scoped>\n",
              "    .dataframe tbody tr th:only-of-type {\n",
              "        vertical-align: middle;\n",
              "    }\n",
              "\n",
              "    .dataframe tbody tr th {\n",
              "        vertical-align: top;\n",
              "    }\n",
              "\n",
              "    .dataframe thead th {\n",
              "        text-align: right;\n",
              "    }\n",
              "</style>\n",
              "<table border=\"1\" class=\"dataframe\">\n",
              "  <thead>\n",
              "    <tr style=\"text-align: right;\">\n",
              "      <th></th>\n",
              "      <th>Transaction_date</th>\n",
              "      <th>Product</th>\n",
              "      <th>Price</th>\n",
              "      <th>Payment_Type</th>\n",
              "      <th>Name</th>\n",
              "      <th>City</th>\n",
              "      <th>State</th>\n",
              "      <th>Country</th>\n",
              "      <th>Account_Created</th>\n",
              "      <th>Last_Login</th>\n",
              "      <th>Latitude</th>\n",
              "      <th>Longitude</th>\n",
              "    </tr>\n",
              "  </thead>\n",
              "  <tbody>\n",
              "    <tr>\n",
              "      <th>224</th>\n",
              "      <td>1/21/09 14:25</td>\n",
              "      <td>Product1</td>\n",
              "      <td>1200</td>\n",
              "      <td>Visa</td>\n",
              "      <td>Tricia</td>\n",
              "      <td>Castricum</td>\n",
              "      <td>Noord-Holland</td>\n",
              "      <td>Netherlands</td>\n",
              "      <td>12/28/07 15:28</td>\n",
              "      <td>1/22/09 0:38</td>\n",
              "      <td>52.550000</td>\n",
              "      <td>4.666667</td>\n",
              "    </tr>\n",
              "    <tr>\n",
              "      <th>660</th>\n",
              "      <td>1/27/09 12:47</td>\n",
              "      <td>Product1</td>\n",
              "      <td>1200</td>\n",
              "      <td>Visa</td>\n",
              "      <td>Caterina</td>\n",
              "      <td>Amsterdam</td>\n",
              "      <td>Noord-Holland</td>\n",
              "      <td>Netherlands</td>\n",
              "      <td>1/27/09 12:03</td>\n",
              "      <td>2/12/09 12:59</td>\n",
              "      <td>52.350000</td>\n",
              "      <td>4.916667</td>\n",
              "    </tr>\n",
              "    <tr>\n",
              "      <th>712</th>\n",
              "      <td>1/19/09 15:40</td>\n",
              "      <td>Product2</td>\n",
              "      <td>3600</td>\n",
              "      <td>Visa</td>\n",
              "      <td>Julia</td>\n",
              "      <td>Ede</td>\n",
              "      <td>Gelderland</td>\n",
              "      <td>Netherlands</td>\n",
              "      <td>1/19/09 14:32</td>\n",
              "      <td>2/15/09 10:33</td>\n",
              "      <td>52.033333</td>\n",
              "      <td>5.666667</td>\n",
              "    </tr>\n",
              "    <tr>\n",
              "      <th>841</th>\n",
              "      <td>1/30/09 23:49</td>\n",
              "      <td>Product2</td>\n",
              "      <td>3600</td>\n",
              "      <td>Visa</td>\n",
              "      <td>Stephanie</td>\n",
              "      <td>Hilversum</td>\n",
              "      <td>Noord-Holland</td>\n",
              "      <td>Netherlands</td>\n",
              "      <td>11/30/08 11:54</td>\n",
              "      <td>2/21/09 14:05</td>\n",
              "      <td>52.233333</td>\n",
              "      <td>5.183333</td>\n",
              "    </tr>\n",
              "  </tbody>\n",
              "</table>\n",
              "</div>"
            ],
            "text/plain": [
              "    Transaction_date   Product Price  ...     Last_Login   Latitude Longitude\n",
              "224    1/21/09 14:25  Product1  1200  ...   1/22/09 0:38  52.550000  4.666667\n",
              "660    1/27/09 12:47  Product1  1200  ...  2/12/09 12:59  52.350000  4.916667\n",
              "712    1/19/09 15:40  Product2  3600  ...  2/15/09 10:33  52.033333  5.666667\n",
              "841    1/30/09 23:49  Product2  3600  ...  2/21/09 14:05  52.233333  5.183333\n",
              "\n",
              "[4 rows x 12 columns]"
            ]
          },
          "metadata": {
            "tags": []
          },
          "execution_count": 9
        }
      ]
    },
    {
      "cell_type": "markdown",
      "metadata": {
        "deletable": true,
        "editable": true,
        "id": "3NgNFgHogfhM",
        "colab_type": "text"
      },
      "source": [
        "La librería pandas nos permite resolver preguntas aun más interesantes, tales como **¿cuáles son los países con la mayor cantidad de transacciones?**. Para contestar esto, haremos uso de `group_by`, que, en palabras sencillas, nos permite agrupar las filas de un DataFrame de acuerdo a alguna(s) columna(s)."
      ]
    },
    {
      "cell_type": "code",
      "metadata": {
        "deletable": true,
        "editable": true,
        "id": "sZ4KRhj-gfhO",
        "colab_type": "code",
        "colab": {
          "base_uri": "https://localhost:8080/",
          "height": 125
        },
        "outputId": "ebb555b7-2a4d-40ed-d3c4-3fc9ecbab765"
      },
      "source": [
        "dataset.groupby([\"Country\"]).count()[\"Transaction_date\"].sort_values(ascending=False)[0:4]"
      ],
      "execution_count": 10,
      "outputs": [
        {
          "output_type": "execute_result",
          "data": {
            "text/plain": [
              "Country\n",
              "United States     121\n",
              "United Kingdom     94\n",
              "Canada             71\n",
              "Ireland            45\n",
              "Name: Transaction_date, dtype: int64"
            ]
          },
          "metadata": {
            "tags": []
          },
          "execution_count": 10
        }
      ]
    },
    {
      "cell_type": "markdown",
      "metadata": {
        "deletable": true,
        "editable": true,
        "id": "YabMcCfTgfhS",
        "colab_type": "text"
      },
      "source": [
        "Ahora queremos saber cuánto dinero fue transado por cada medio de pago:"
      ]
    },
    {
      "cell_type": "code",
      "metadata": {
        "deletable": true,
        "editable": true,
        "id": "fl7NM5wEgfhS",
        "colab_type": "code",
        "colab": {
          "base_uri": "https://localhost:8080/",
          "height": 143
        },
        "outputId": "45cc5315-a577-4a20-8b1c-58b5e6c936f0"
      },
      "source": [
        "dataset.groupby([\"Payment_Type\"])[\"Price\"].sum()"
      ],
      "execution_count": 11,
      "outputs": [
        {
          "output_type": "execute_result",
          "data": {
            "text/plain": [
              "Payment_Type\n",
              "Amanda                                               Mastercard\n",
              "Amex          1200120036003600120012001200120012001200120012...\n",
              "Diners        1200120012001200120012001200120036001200120012...\n",
              "Mastercard    1200120012001200120012001200120012001200120012...\n",
              "Visa          1200120036001200120012001200120036001200120012...\n",
              "Name: Price, dtype: object"
            ]
          },
          "metadata": {
            "tags": []
          },
          "execution_count": 11
        }
      ]
    },
    {
      "cell_type": "markdown",
      "metadata": {
        "deletable": true,
        "editable": true,
        "id": "xwJ11jFYgfhV",
        "colab_type": "text"
      },
      "source": [
        "#### Propuesto: ¿Cuál fue el producto más vendido dentro de Estados Unidos?"
      ]
    },
    {
      "cell_type": "code",
      "metadata": {
        "deletable": true,
        "editable": true,
        "id": "Ufh2SxR1gfhW",
        "colab_type": "code",
        "colab": {
          "base_uri": "https://localhost:8080/",
          "height": 89
        },
        "outputId": "4d4df77d-7a48-4ec4-938c-7d687a554cb4"
      },
      "source": [
        "# Escribe tu solución aquí\n",
        "dataset[dataset[\"Country\"] == \"United States\"][\"Product\"].value_counts()"
      ],
      "execution_count": 21,
      "outputs": [
        {
          "output_type": "execute_result",
          "data": {
            "text/plain": [
              "Product1    106\n",
              "Product2     11\n",
              "Product3      4\n",
              "Name: Product, dtype: int64"
            ]
          },
          "metadata": {
            "tags": []
          },
          "execution_count": 21
        }
      ]
    },
    {
      "cell_type": "markdown",
      "metadata": {
        "id": "lvZ0Xz9ClG4W",
        "colab_type": "text"
      },
      "source": [
        ""
      ]
    },
    {
      "cell_type": "code",
      "metadata": {
        "id": "1Wvrrc-VsdBX",
        "colab_type": "code",
        "colab": {
          "base_uri": "https://localhost:8080/",
          "height": 1000
        },
        "outputId": "0439c887-adc8-468a-f982-edb6746eed9e"
      },
      "source": [
        "dataset.Country.unique"
      ],
      "execution_count": 13,
      "outputs": [
        {
          "output_type": "execute_result",
          "data": {
            "text/plain": [
              "<bound method Series.unique of 0      United Kingdom\n",
              "1       United States\n",
              "2        1/1/09 16:21\n",
              "3           Australia\n",
              "4      11/15/08 15:47\n",
              "5       United States\n",
              "6       United States\n",
              "7       United States\n",
              "8              Israel\n",
              "9              France\n",
              "10        1/5/09 2:23\n",
              "11        Netherlands\n",
              "12        1/5/09 9:05\n",
              "13     11/11/08 15:53\n",
              "14      United States\n",
              "15            Ireland\n",
              "16             Canada\n",
              "17              India\n",
              "18     United Kingdom\n",
              "19      United States\n",
              "20     United Kingdom\n",
              "21            Ireland\n",
              "22       South Africa\n",
              "23        1/6/09 7:07\n",
              "24            Finland\n",
              "25        1/1/09 1:56\n",
              "26        1/7/09 7:39\n",
              "27     United Kingdom\n",
              "28      United States\n",
              "29      United States\n",
              "            ...      \n",
              "968         Australia\n",
              "969      1/5/09 18:16\n",
              "970    12/24/07 22:59\n",
              "971    Czech Republic\n",
              "972    United Kingdom\n",
              "973    United Kingdom\n",
              "974           Romania\n",
              "975      3/30/06 2:02\n",
              "976     11/3/05 18:14\n",
              "977    United Kingdom\n",
              "978            Turkey\n",
              "979     United States\n",
              "980    United Kingdom\n",
              "981       New Zealand\n",
              "982         Australia\n",
              "983         Guatemala\n",
              "984             Spain\n",
              "985     6/20/04 17:16\n",
              "986     6/10/05 20:25\n",
              "987         Australia\n",
              "988         Australia\n",
              "989           Finland\n",
              "990           Austria\n",
              "991       Switzerland\n",
              "992    United Kingdom\n",
              "993    United Kingdom\n",
              "994         Mauritius\n",
              "995    12/28/08 17:28\n",
              "996    United Kingdom\n",
              "997      3/1/09 10:14\n",
              "Name: Country, Length: 998, dtype: object>"
            ]
          },
          "metadata": {
            "tags": []
          },
          "execution_count": 13
        }
      ]
    },
    {
      "cell_type": "markdown",
      "metadata": {
        "deletable": true,
        "editable": true,
        "id": "2QgnCkx6gfhY",
        "colab_type": "text"
      },
      "source": [
        "El retorno de la celda anterior debería verse más o menos así:"
      ]
    },
    {
      "cell_type": "markdown",
      "metadata": {
        "deletable": true,
        "editable": true,
        "id": "wVe6u8Vhgfha",
        "colab_type": "text"
      },
      "source": [
        "### Agregando información al dataset"
      ]
    },
    {
      "cell_type": "markdown",
      "metadata": {
        "deletable": true,
        "editable": true,
        "id": "4hSq1Nmpgfhb",
        "colab_type": "text"
      },
      "source": [
        "Queremos agregar una columna que indique cuán satisfecho quedó el cliente con su transacción. La medida de satisfacción que utilizaremos será una nota de 1 a 5. Primero definimos una función que entregue $n$ *ratings* aleatorios."
      ]
    },
    {
      "cell_type": "code",
      "metadata": {
        "deletable": true,
        "editable": true,
        "id": "M0BKidmugfhb",
        "colab_type": "code",
        "colab": {}
      },
      "source": [
        "import random\n",
        "\n",
        "def random_ratings(number):\n",
        "    ratings = []\n",
        "    for i in range(number):\n",
        "        rating = random.choice(range(1,6))\n",
        "        ratings.append(rating)\n",
        "    return ratings"
      ],
      "execution_count": 0,
      "outputs": []
    },
    {
      "cell_type": "markdown",
      "metadata": {
        "deletable": true,
        "editable": true,
        "id": "cgihZN1Qgfhe",
        "colab_type": "text"
      },
      "source": [
        "Ahora agregamos la columna de ratings de la siguiente manera:"
      ]
    },
    {
      "cell_type": "code",
      "metadata": {
        "deletable": true,
        "editable": true,
        "id": "5_CiaZRfgfhe",
        "colab_type": "code",
        "colab": {}
      },
      "source": [
        "ratings = random_ratings(len(dataset))\n",
        "dataset[\"Rating\"] = ratings"
      ],
      "execution_count": 0,
      "outputs": []
    },
    {
      "cell_type": "markdown",
      "metadata": {
        "deletable": true,
        "editable": true,
        "id": "sbtwDSBMgfhh",
        "colab_type": "text"
      },
      "source": [
        "Revisemos si efectivamente se añadió la columna:"
      ]
    },
    {
      "cell_type": "code",
      "metadata": {
        "deletable": true,
        "editable": true,
        "id": "dEtgi5nZgfhi",
        "colab_type": "code",
        "colab": {
          "base_uri": "https://localhost:8080/",
          "height": 204
        },
        "outputId": "e2c632a2-51e8-4656-cd13-7b6fdc031749"
      },
      "source": [
        "dataset.sample(5)"
      ],
      "execution_count": 16,
      "outputs": [
        {
          "output_type": "execute_result",
          "data": {
            "text/html": [
              "<div>\n",
              "<style scoped>\n",
              "    .dataframe tbody tr th:only-of-type {\n",
              "        vertical-align: middle;\n",
              "    }\n",
              "\n",
              "    .dataframe tbody tr th {\n",
              "        vertical-align: top;\n",
              "    }\n",
              "\n",
              "    .dataframe thead th {\n",
              "        text-align: right;\n",
              "    }\n",
              "</style>\n",
              "<table border=\"1\" class=\"dataframe\">\n",
              "  <thead>\n",
              "    <tr style=\"text-align: right;\">\n",
              "      <th></th>\n",
              "      <th>Transaction_date</th>\n",
              "      <th>Product</th>\n",
              "      <th>Price</th>\n",
              "      <th>Payment_Type</th>\n",
              "      <th>Name</th>\n",
              "      <th>City</th>\n",
              "      <th>State</th>\n",
              "      <th>Country</th>\n",
              "      <th>Account_Created</th>\n",
              "      <th>Last_Login</th>\n",
              "      <th>Latitude</th>\n",
              "      <th>Longitude</th>\n",
              "      <th>Rating</th>\n",
              "    </tr>\n",
              "  </thead>\n",
              "  <tbody>\n",
              "    <tr>\n",
              "      <th>379</th>\n",
              "      <td>1/5/09 11:21</td>\n",
              "      <td>Product1</td>\n",
              "      <td>1200</td>\n",
              "      <td>Visa</td>\n",
              "      <td>pirunkit</td>\n",
              "      <td>Petworth</td>\n",
              "      <td>England</td>\n",
              "      <td>United Kingdom</td>\n",
              "      <td>1/5/09 5:46</td>\n",
              "      <td>1/30/09 5:54</td>\n",
              "      <td>50.983333</td>\n",
              "      <td>-0.600000</td>\n",
              "      <td>4</td>\n",
              "    </tr>\n",
              "    <tr>\n",
              "      <th>747</th>\n",
              "      <td>1/8/09 23:00</td>\n",
              "      <td>Product1</td>\n",
              "      <td>1200</td>\n",
              "      <td>Visa</td>\n",
              "      <td>Dickson</td>\n",
              "      <td>Kemerburgaz</td>\n",
              "      <td>Istanbul</td>\n",
              "      <td>Turkey</td>\n",
              "      <td>9/16/08 2:07</td>\n",
              "      <td>2/17/09 1:29</td>\n",
              "      <td>41.159444</td>\n",
              "      <td>28.912778</td>\n",
              "      <td>4</td>\n",
              "    </tr>\n",
              "    <tr>\n",
              "      <th>222</th>\n",
              "      <td>1/7/09 22:29</td>\n",
              "      <td>Product1</td>\n",
              "      <td>1200</td>\n",
              "      <td>Mastercard</td>\n",
              "      <td>lailani</td>\n",
              "      <td>Anchorage</td>\n",
              "      <td>AK</td>\n",
              "      <td>United States</td>\n",
              "      <td>1/7/09 13:23</td>\n",
              "      <td>1/21/09 22:30</td>\n",
              "      <td>61.218060</td>\n",
              "      <td>-149.900280</td>\n",
              "      <td>5</td>\n",
              "    </tr>\n",
              "    <tr>\n",
              "      <th>392</th>\n",
              "      <td>1/31/09 9:12</td>\n",
              "      <td>Product1</td>\n",
              "      <td>1200</td>\n",
              "      <td>Visa</td>\n",
              "      <td>Nanci</td>\n",
              "      <td>Reading</td>\n",
              "      <td>England</td>\n",
              "      <td>United Kingdom</td>\n",
              "      <td>8/28/08 10:22</td>\n",
              "      <td>1/31/09 9:08</td>\n",
              "      <td>51.433333</td>\n",
              "      <td>-1.000000</td>\n",
              "      <td>4</td>\n",
              "    </tr>\n",
              "    <tr>\n",
              "      <th>823</th>\n",
              "      <td>1/31/09 1:59</td>\n",
              "      <td>Product1</td>\n",
              "      <td>1200</td>\n",
              "      <td>Visa</td>\n",
              "      <td>Nacole</td>\n",
              "      <td>Milan</td>\n",
              "      <td>Lombardy</td>\n",
              "      <td>Italy</td>\n",
              "      <td>4/11/05 2:40</td>\n",
              "      <td>2/20/09 11:41</td>\n",
              "      <td>45.466667</td>\n",
              "      <td>9.200000</td>\n",
              "      <td>1</td>\n",
              "    </tr>\n",
              "  </tbody>\n",
              "</table>\n",
              "</div>"
            ],
            "text/plain": [
              "    Transaction_date   Product Price  ...   Latitude   Longitude Rating\n",
              "379     1/5/09 11:21  Product1  1200  ...  50.983333   -0.600000      4\n",
              "747     1/8/09 23:00  Product1  1200  ...  41.159444   28.912778      4\n",
              "222     1/7/09 22:29  Product1  1200  ...  61.218060 -149.900280      5\n",
              "392     1/31/09 9:12  Product1  1200  ...  51.433333   -1.000000      4\n",
              "823     1/31/09 1:59  Product1  1200  ...  45.466667    9.200000      1\n",
              "\n",
              "[5 rows x 13 columns]"
            ]
          },
          "metadata": {
            "tags": []
          },
          "execution_count": 16
        }
      ]
    },
    {
      "cell_type": "markdown",
      "metadata": {
        "deletable": true,
        "editable": true,
        "id": "aIiRENAfgfhn",
        "colab_type": "text"
      },
      "source": [
        "Imaginemos que queremos cambiar los números de rating 1-5 a algo más descriptivo:\n",
        "\n",
        "- 1: Very Dissatisfied.\n",
        "- 2: Somewhat Dissatisfied.\n",
        "- 3: Neither Satisfied Nor Dissatisfied.\n",
        "- 4: Somewhat Satisfied.\n",
        "- 5: Very Satisfied.\n",
        "\n",
        "¿Cómo lo hacemos? El método `apply` nos ayudará mucho.\n",
        "\n",
        "En primer lugar, conviene definir una función que dado un *rating* numérico, retorne la medida de satisfacción en palabras:\n"
      ]
    },
    {
      "cell_type": "code",
      "metadata": {
        "deletable": true,
        "editable": true,
        "id": "JCoSwh4ngfhp",
        "colab_type": "code",
        "colab": {}
      },
      "source": [
        "def convert(rating):\n",
        "    if rating == 1:\n",
        "        return \"Very Dissatisfied\"\n",
        "    elif rating == 2:\n",
        "        return \"Somewhat Dissatisfied\"\n",
        "    elif rating == 3:\n",
        "        return \"Neither Satisfied Nor Dissatisfied\"\n",
        "    elif rating == 4:\n",
        "        return \"Somewhat Satisfied\"\n",
        "    else:\n",
        "        return \"Very Satisfied\""
      ],
      "execution_count": 0,
      "outputs": []
    },
    {
      "cell_type": "markdown",
      "metadata": {
        "deletable": true,
        "editable": true,
        "id": "oke6HtCjgfhx",
        "colab_type": "text"
      },
      "source": [
        "Posteriormente, aplicamos la función a la columna *Ratings*:"
      ]
    },
    {
      "cell_type": "code",
      "metadata": {
        "deletable": true,
        "editable": true,
        "id": "tKleN0yMgfhy",
        "colab_type": "code",
        "colab": {}
      },
      "source": [
        "dataset[\"Rating\"] = dataset[\"Rating\"].apply(convert)"
      ],
      "execution_count": 0,
      "outputs": []
    },
    {
      "cell_type": "markdown",
      "metadata": {
        "deletable": true,
        "editable": true,
        "id": "fEd9OCQfgfh1",
        "colab_type": "text"
      },
      "source": [
        "Veamos cómo quedó el dataset:"
      ]
    },
    {
      "cell_type": "code",
      "metadata": {
        "deletable": true,
        "editable": true,
        "id": "J-qDo50Wgfh1",
        "colab_type": "code",
        "colab": {
          "base_uri": "https://localhost:8080/",
          "height": 323
        },
        "outputId": "7fa25fd1-8c96-4c38-90b3-a5ebb7d606f6"
      },
      "source": [
        "dataset.head()"
      ],
      "execution_count": 19,
      "outputs": [
        {
          "output_type": "execute_result",
          "data": {
            "text/html": [
              "<div>\n",
              "<style scoped>\n",
              "    .dataframe tbody tr th:only-of-type {\n",
              "        vertical-align: middle;\n",
              "    }\n",
              "\n",
              "    .dataframe tbody tr th {\n",
              "        vertical-align: top;\n",
              "    }\n",
              "\n",
              "    .dataframe thead th {\n",
              "        text-align: right;\n",
              "    }\n",
              "</style>\n",
              "<table border=\"1\" class=\"dataframe\">\n",
              "  <thead>\n",
              "    <tr style=\"text-align: right;\">\n",
              "      <th></th>\n",
              "      <th>Transaction_date</th>\n",
              "      <th>Product</th>\n",
              "      <th>Price</th>\n",
              "      <th>Payment_Type</th>\n",
              "      <th>Name</th>\n",
              "      <th>City</th>\n",
              "      <th>State</th>\n",
              "      <th>Country</th>\n",
              "      <th>Account_Created</th>\n",
              "      <th>Last_Login</th>\n",
              "      <th>Latitude</th>\n",
              "      <th>Longitude</th>\n",
              "      <th>Rating</th>\n",
              "    </tr>\n",
              "  </thead>\n",
              "  <tbody>\n",
              "    <tr>\n",
              "      <th>0</th>\n",
              "      <td>1/2/09 6:17</td>\n",
              "      <td>Product1</td>\n",
              "      <td>1200</td>\n",
              "      <td>Mastercard</td>\n",
              "      <td>carolina</td>\n",
              "      <td>Basildon</td>\n",
              "      <td>England</td>\n",
              "      <td>United Kingdom</td>\n",
              "      <td>1/2/09 6:00</td>\n",
              "      <td>1/2/09 6:08</td>\n",
              "      <td>51.500000</td>\n",
              "      <td>-1.116667</td>\n",
              "      <td>Very Dissatisfied</td>\n",
              "    </tr>\n",
              "    <tr>\n",
              "      <th>1</th>\n",
              "      <td>1/2/09 4:53</td>\n",
              "      <td>Product1</td>\n",
              "      <td>1200</td>\n",
              "      <td>Visa</td>\n",
              "      <td>Betina</td>\n",
              "      <td>Parkville</td>\n",
              "      <td>MO</td>\n",
              "      <td>United States</td>\n",
              "      <td>1/2/09 4:42</td>\n",
              "      <td>1/2/09 7:49</td>\n",
              "      <td>39.195000</td>\n",
              "      <td>-94.681940</td>\n",
              "      <td>Very Dissatisfied</td>\n",
              "    </tr>\n",
              "    <tr>\n",
              "      <th>2</th>\n",
              "      <td>1/2/09 13:08</td>\n",
              "      <td>Product1</td>\n",
              "      <td>1200</td>\n",
              "      <td>Mastercard</td>\n",
              "      <td>Federica e Andrea</td>\n",
              "      <td>Astoria OR</td>\n",
              "      <td>United States</td>\n",
              "      <td>1/1/09 16:21</td>\n",
              "      <td>1/3/09 12:32</td>\n",
              "      <td>46.18806</td>\n",
              "      <td>-123.830000</td>\n",
              "      <td>NaN</td>\n",
              "      <td>Neither Satisfied Nor Dissatisfied</td>\n",
              "    </tr>\n",
              "    <tr>\n",
              "      <th>3</th>\n",
              "      <td>1/3/09 14:44</td>\n",
              "      <td>Product1</td>\n",
              "      <td>1200</td>\n",
              "      <td>Visa</td>\n",
              "      <td>Gouya</td>\n",
              "      <td>Echuca</td>\n",
              "      <td>Victoria</td>\n",
              "      <td>Australia</td>\n",
              "      <td>9/25/05 21:13</td>\n",
              "      <td>1/3/09 14:22</td>\n",
              "      <td>-36.133333</td>\n",
              "      <td>144.750000</td>\n",
              "      <td>Somewhat Dissatisfied</td>\n",
              "    </tr>\n",
              "    <tr>\n",
              "      <th>4</th>\n",
              "      <td>1/4/09 12:56</td>\n",
              "      <td>Product2</td>\n",
              "      <td>3600</td>\n",
              "      <td>Visa</td>\n",
              "      <td>Gerd WCahaba Heights</td>\n",
              "      <td>AL</td>\n",
              "      <td>United States</td>\n",
              "      <td>11/15/08 15:47</td>\n",
              "      <td>1/4/09 12:45</td>\n",
              "      <td>33.52056</td>\n",
              "      <td>-86.802500</td>\n",
              "      <td>NaN</td>\n",
              "      <td>Very Dissatisfied</td>\n",
              "    </tr>\n",
              "  </tbody>\n",
              "</table>\n",
              "</div>"
            ],
            "text/plain": [
              "  Transaction_date   Product  ...   Longitude                              Rating\n",
              "0      1/2/09 6:17  Product1  ...   -1.116667                   Very Dissatisfied\n",
              "1      1/2/09 4:53  Product1  ...  -94.681940                   Very Dissatisfied\n",
              "2     1/2/09 13:08  Product1  ...         NaN  Neither Satisfied Nor Dissatisfied\n",
              "3     1/3/09 14:44  Product1  ...  144.750000               Somewhat Dissatisfied\n",
              "4     1/4/09 12:56  Product2  ...         NaN                   Very Dissatisfied\n",
              "\n",
              "[5 rows x 13 columns]"
            ]
          },
          "metadata": {
            "tags": []
          },
          "execution_count": 19
        }
      ]
    },
    {
      "cell_type": "markdown",
      "metadata": {
        "deletable": true,
        "editable": true,
        "id": "9G5O1SpMgfh4",
        "colab_type": "text"
      },
      "source": [
        "Esto ha sido solo una pequeña introducción a pandas. Es muy posible que en tu tarea debas emplear algunas cosas que no vimos en esta ayudantía, por lo que deberás investigar por tu cuenta. Recuerda que ante cualquier duda, los ayudantes estamos a tu completa disposición."
      ]
    }
  ]
}